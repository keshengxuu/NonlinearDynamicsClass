{
 "cells": [
  {
   "cell_type": "markdown",
   "metadata": {},
   "source": [
    "\n",
    "# Lorenz attractor\n",
    "\n",
    "This is an example of plotting Edward Lorenz's 1963 `\"Deterministic Nonperiodic\n",
    "Flow\"`_ in a 3-dimensional space using mplot3d.\n",
    "\n",
    "   https://journals.ametsoc.org/view/journals/atsc/20/2/1520-0469_1963_020_0130_dnf_2_0_co_2.xml\n",
    "\n",
    "<div class=\"alert alert-info\"><h4>Note</h4><p>Because this is a simple non-linear ODE, it would be more easily done using\n",
    "   SciPy's ODE solver, but this approach depends only upon NumPy.</p></div>\n"
   ]
  },
  {
   "cell_type": "code",
   "execution_count": null,
   "metadata": {},
   "outputs": [],
   "source": [
    "import matplotlib.pyplot as plt\n",
    "import numpy as np\n",
    "\n",
    "\n",
    "def lorenz(xyz, *, s=10, r=28, b=2.667):\n",
    "    \"\"\"\n",
    "    Parameters\n",
    "    ----------\n",
    "    xyz : array-like, shape (3,)\n",
    "       Point of interest in three-dimensional space.\n",
    "    s, r, b : float\n",
    "       Parameters defining the Lorenz attractor.\n",
    "\n",
    "    Returns\n",
    "    -------\n",
    "    xyz_dot : array, shape (3,)\n",
    "       Values of the Lorenz attractor's partial derivatives at *xyz*.\n",
    "    \"\"\"\n",
    "    x, y, z = xyz\n",
    "    x_dot = s*(y - x)\n",
    "    y_dot = r*x - y - x*z\n",
    "    z_dot = x*y - b*z\n",
    "    return np.array([x_dot, y_dot, z_dot])\n",
    "\n",
    "\n",
    "dt = 0.01\n",
    "num_steps = 10000\n",
    "\n",
    "xyzs = np.empty((num_steps + 1, 3))  # Need one more for the initial values\n",
    "xyzs[0] = (0., 1., 1.05)  # Set initial values\n",
    "# Step through \"time\", calculating the partial derivatives at the current point\n",
    "# and using them to estimate the next point\n",
    "for i in range(num_steps):\n",
    "    xyzs[i + 1] = xyzs[i] + lorenz(xyzs[i]) * dt\n",
    "\n",
    "# Plot\n",
    "ax = plt.figure().add_subplot(projection='3d')\n",
    "\n",
    "ax.plot(*xyzs.T, lw=0.5)\n",
    "ax.set_xlabel(\"X Axis\")\n",
    "ax.set_ylabel(\"Y Axis\")\n",
    "ax.set_zlabel(\"Z Axis\")\n",
    "ax.set_title(\"Lorenz Attractor\")\n",
    "\n",
    "plt.show()"
   ]
  }
 ],
 "metadata": {
  "kernelspec": {
   "display_name": "Python 3 (ipykernel)",
   "language": "python",
   "name": "python3"
  },
  "language_info": {
   "codemirror_mode": {
    "name": "ipython",
    "version": 3
   },
   "file_extension": ".py",
   "mimetype": "text/x-python",
   "name": "python",
   "nbconvert_exporter": "python",
   "pygments_lexer": "ipython3",
   "version": "3.8.10"
  }
 },
 "nbformat": 4,
 "nbformat_minor": 1
}
